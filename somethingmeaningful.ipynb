{
 "cells": [
  {
   "cell_type": "code",
   "execution_count": 1,
   "metadata": {},
   "outputs": [
    {
     "name": "stdout",
     "output_type": "stream",
     "text": [
      "hello world\n"
     ]
    }
   ],
   "source": [
    "print('hello world')"
   ]
  },
  {
   "cell_type": "code",
   "execution_count": 11,
   "metadata": {},
   "outputs": [
    {
     "name": "stdout",
     "output_type": "stream",
     "text": [
      "hello5\n"
     ]
    }
   ],
   "source": [
    "num = 5 \n",
    "print('hello' + str(num))"
   ]
  },
  {
   "cell_type": "code",
   "execution_count": 4,
   "metadata": {},
   "outputs": [
    {
     "name": "stdout",
     "output_type": "stream",
     "text": [
      "helloworld\n"
     ]
    }
   ],
   "source": [
    "print('hello' + 'world')\n"
   ]
  },
  {
   "cell_type": "code",
   "execution_count": 8,
   "metadata": {},
   "outputs": [
    {
     "name": "stdout",
     "output_type": "stream",
     "text": [
      "hello5\n"
     ]
    }
   ],
   "source": [
    "print('hello' + str(5))\n",
    "\n"
   ]
  },
  {
   "cell_type": "code",
   "execution_count": 15,
   "metadata": {},
   "outputs": [
    {
     "name": "stdout",
     "output_type": "stream",
     "text": [
      "0\n",
      "hello world\n",
      "1\n",
      "hello world\n",
      "2\n",
      "hello world\n",
      "3\n",
      "hello world\n",
      "4\n",
      "hello world\n"
     ]
    }
   ],
   "source": [
    "i = 0\n",
    "while i<5:\n",
    "    print (i)\n",
    "    print ('hello world')\n",
    "    i+=1\n",
    "    \n",
    "    "
   ]
  },
  {
   "cell_type": "code",
   "execution_count": 14,
   "metadata": {},
   "outputs": [
    {
     "name": "stdout",
     "output_type": "stream",
     "text": [
      "0\n",
      "hello world\n",
      "1\n",
      "hello world\n",
      "2\n",
      "hello world\n",
      "3\n",
      "hello world\n",
      "4\n",
      "hello world\n"
     ]
    }
   ],
   "source": [
    "for i in range(5): \n",
    "    print (i)\n",
    "    print ('hello world')"
   ]
  },
  {
   "cell_type": "code",
   "execution_count": 49,
   "metadata": {},
   "outputs": [],
   "source": [
    "def is_prime(numb):\n",
    "    if numb < 2:\n",
    "        return False\n",
    "    i = 2\n",
    "    while i<numb:\n",
    "        if numb %i == 0:\n",
    "            return False\n",
    "        i+= 1\n",
    "    return True"
   ]
  },
  {
   "cell_type": "code",
   "execution_count": 50,
   "metadata": {},
   "outputs": [
    {
     "name": "stdout",
     "output_type": "stream",
     "text": [
      "0 is False\n",
      "1 is False\n",
      "2 is True\n",
      "3 is True\n",
      "4 is False\n",
      "5 is True\n",
      "6 is False\n",
      "7 is True\n",
      "8 is False\n",
      "9 is False\n",
      "10 is False\n",
      "11 is True\n",
      "12 is False\n",
      "13 is True\n",
      "14 is False\n",
      "15 is False\n",
      "16 is False\n",
      "17 is True\n",
      "18 is False\n",
      "19 is True\n",
      "20 is False\n"
     ]
    },
    {
     "data": {
      "text/plain": [
       "False"
      ]
     },
     "execution_count": 50,
     "metadata": {},
     "output_type": "execute_result"
    }
   ],
   "source": [
    "for i in range(21):\n",
    "    print(str(i) + \" is \" + str(is_prime(i)))\n",
    "is_prime(1) \n",
    "\n"
   ]
  },
  {
   "cell_type": "code",
   "execution_count": 51,
   "metadata": {},
   "outputs": [],
   "source": [
    "lst = [1,2,3,4,5,6,7,8,9,10]"
   ]
  },
  {
   "cell_type": "code",
   "execution_count": 58,
   "metadata": {},
   "outputs": [
    {
     "name": "stdout",
     "output_type": "stream",
     "text": [
      "1\n",
      "2\n",
      "3\n",
      "4\n",
      "5\n",
      "6\n",
      "7\n",
      "8\n",
      "9\n",
      "10\n"
     ]
    },
    {
     "data": {
      "text/plain": [
       "10"
      ]
     },
     "execution_count": 58,
     "metadata": {},
     "output_type": "execute_result"
    }
   ],
   "source": [
    "for i in range(len(lst)):\n",
    "    print(lst[i])\n",
    "len(lst)\n"
   ]
  },
  {
   "cell_type": "code",
   "execution_count": null,
   "metadata": {},
   "outputs": [],
   "source": [
    "print"
   ]
  }
 ],
 "metadata": {
  "kernelspec": {
   "display_name": "Python 3",
   "language": "python",
   "name": "python3"
  },
  "language_info": {
   "codemirror_mode": {
    "name": "ipython",
    "version": 3
   },
   "file_extension": ".py",
   "mimetype": "text/x-python",
   "name": "python",
   "nbconvert_exporter": "python",
   "pygments_lexer": "ipython3",
   "version": "3.7.3"
  }
 },
 "nbformat": 4,
 "nbformat_minor": 2
}
