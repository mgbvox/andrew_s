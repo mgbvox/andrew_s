{
 "cells": [
  {
   "cell_type": "markdown",
   "metadata": {},
   "source": [
    "# MUSICAL CODE\n",
    "### Welcome to the extra credit section!\n",
    "\n",
    "\n",
    "A common practice among composers is to encode messages into their music. Bach, for example, famously wrote his name into several of his pieces. The following cell builds a dictionary that maps each letter in the alphabet to its numerical position (A = 0, B = 1, C = 2, etc). I've randomly translated a couple characters to illustrate this. Run the following cell to store the dict in memory, and I'll meet you on the other side."
   ]
  },
  {
   "cell_type": "code",
   "execution_count": 9,
   "metadata": {},
   "outputs": [
    {
     "name": "stdout",
     "output_type": "stream",
     "text": [
      "Populating the interactive namespace from numpy and matplotlib\n",
      "g -> 6\n",
      "c -> 2\n",
      "a -> 0\n",
      "x -> 23\n",
      "z -> 25\n"
     ]
    }
   ],
   "source": [
    "%pylab inline\n",
    "'''Change nothing - just run this!'''\n",
    "import string\n",
    "\n",
    "alphabet = list(string.ascii_lowercase)\n",
    "alpha_to_int = dict([list(reversed(i)) for i in enumerate(alphabet)])\n",
    "for c in np.random.choice(alphabet,5,replace=False):\n",
    "    print(c,'->',alpha_to_int[c])"
   ]
  },
  {
   "cell_type": "markdown",
   "metadata": {},
   "source": [
    "This is all fine, but we run into a problem: **there aren't 26 notes** in the musical scale. There's luckily a quick fix from this: the modulo operator (https://en.wikipedia.org/wiki/Modulo_operation). In python, that's represented by the **%** symbol; elsewhere, you'll see it represented as some variation on 'mod(x)'. \n",
    "### What does it do?\n",
    "Essentially, the modulo gives you the remainder after performing integer division on a number - \n",
    "$$6\\;mod\\;3 = 0$$ \n",
    "because \n",
    "$$6/3=2\\;\\textbf{exactly}$$\n",
    "\n",
    "However:\n",
    "$$6\\;mod\\;4 = 2$$\n",
    "because\n",
    "$$6/4=1\\;\\textbf{remainder 2}$$\n",
    "\n",
    "Another way to look at modulo, though, is as a way to cyclically map an ascending sequence onto a set range of numbers... like our friend the chromatic scale from question 2!\n",
    "\n",
    "We've got twelve notes to work with, but twenty six letters. A-L are fine (that's 0-11), but how do we deal with M? Simple: M is 12, which isn't in our degree_map dict, but 12%12=0 is! \n",
    "Therefore:\n",
    "\n",
    "$$M \n",
    "\\xrightarrow{\\text{alpha_to_int[]}} \n",
    "12\n",
    "\\xrightarrow{\\text{%12}} \n",
    "0 \n",
    "\\xrightarrow{\\text{degree_map[]}}\n",
    "C$$\n",
    "\n",
    "Likewise:\n",
    "\n",
    "$$N\n",
    "\\xrightarrow{\\text{alpha_to_int[]}} \n",
    "13\n",
    "\\xrightarrow{\\text{%12}} \n",
    "1\n",
    "\\xrightarrow{\\text{degree_map[]}}\n",
    "C\\text{#}$$"
   ]
  },
  {
   "cell_type": "markdown",
   "metadata": {},
   "source": [
    "#### TODO - A)\n",
    "Let's implement this. The variable we created above, 'alphabet,' is a list. Using a list comprehension and alpha_to_int, map each letter in the alphabet list to its corresponding number (ignoring modulo for now!), and call the resulting list 'alpha_int_list.'"
   ]
  },
  {
   "cell_type": "code",
   "execution_count": 10,
   "metadata": {},
   "outputs": [],
   "source": [
    "### CODE HERE ###\n",
    "\n"
   ]
  },
  {
   "cell_type": "markdown",
   "metadata": {},
   "source": [
    "#### TODO - B)\n",
    "Great! Now, let's start modding. In a for loop, go through each number in alpha_int_list, and if it's >= 12, mod it so it's between 0-12. Store that in a variable called 'n_mod'. Then, translate that number to a note value using degree_map, and print it."
   ]
  },
  {
   "cell_type": "code",
   "execution_count": 11,
   "metadata": {},
   "outputs": [],
   "source": [
    "### CODE HERE ###\n",
    "\n"
   ]
  },
  {
   "cell_type": "markdown",
   "metadata": {},
   "source": [
    "We're almost there!\n",
    "#### TODO - C)\n",
    "The input() function allows us to take user text input and do stuff with it. We can cast that to a list, and iterate through it to encode our message! Write code that takes a message to encode (**use all lowercase letters in your input**), and translates each letter to a scale note.\n",
    "\n",
    "If you're feeling really ambitious: it's possible to do this in a single line with a list comprehension and a bunch of nested dictionaries... just note that the syntax is suuuuuuuper crazy."
   ]
  },
  {
   "cell_type": "code",
   "execution_count": null,
   "metadata": {},
   "outputs": [],
   "source": [
    "message = list(input('Type a message to encode:'))\n",
    "\n",
    "### CODE HERE ###\n",
    "\n"
   ]
  },
  {
   "cell_type": "markdown",
   "metadata": {},
   "source": [
    "#### EXTRA _**EXTRA**_ CREDIT\n",
    "Want a challenge? The following cell restarts the kernel, meaning you'll have a clean slate (none of the above variables will be saved). Finish the function encode_message, such that providing it with a string returns a musical representation of that string. You'll need to reinitialize the dicts we used above INSIDE the function."
   ]
  },
  {
   "cell_type": "code",
   "execution_count": 7,
   "metadata": {},
   "outputs": [
    {
     "name": "stdout",
     "output_type": "stream",
     "text": [
      "Populating the interactive namespace from numpy and matplotlib\n"
     ]
    },
    {
     "name": "stdin",
     "output_type": "stream",
     "text": [
      "Once deleted, variables cannot be recovered. Proceed (y/[n])?  y\n"
     ]
    }
   ],
   "source": [
    "%reset\n",
    "%pylab inline\n",
    "\n",
    "### CODE HERE ###\n",
    "def encode_message(input_string):\n",
    "    #SOME CODE GOES HERE\n",
    "\n",
    "message = # Message goes here - use input()\n",
    "\n",
    "#Encode and print the message below:\n"
   ]
  },
  {
   "cell_type": "markdown",
   "metadata": {},
   "source": [
    "### If you made it this far, congratulations! If not, that's totally fine. Take notes, and we'll go over everything in our next session."
   ]
  }
 ],
 "metadata": {
  "kernelspec": {
   "display_name": "Python 3",
   "language": "python",
   "name": "python3"
  },
  "language_info": {
   "codemirror_mode": {
    "name": "ipython",
    "version": 3
   },
   "file_extension": ".py",
   "mimetype": "text/x-python",
   "name": "python",
   "nbconvert_exporter": "python",
   "pygments_lexer": "ipython3",
   "version": "3.7.1"
  }
 },
 "nbformat": 4,
 "nbformat_minor": 2
}
