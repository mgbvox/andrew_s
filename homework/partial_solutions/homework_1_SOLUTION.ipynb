{
 "cells": [
  {
   "cell_type": "code",
   "execution_count": 1,
   "metadata": {},
   "outputs": [
    {
     "name": "stdout",
     "output_type": "stream",
     "text": [
      "Populating the interactive namespace from numpy and matplotlib\n"
     ]
    }
   ],
   "source": [
    "%pylab inline"
   ]
  },
  {
   "cell_type": "markdown",
   "metadata": {},
   "source": [
    "# Homework One: Chapters 0-6"
   ]
  },
  {
   "cell_type": "markdown",
   "metadata": {},
   "source": [
    "# Lists and Loops\n",
    "### 'Powers of Two'\n",
    "All machine language at its core consists of binary code - 0s and 1s. That means you can essentially think of the 'alphabet' which constructs the universal language of computers to be of size 2 - again, just '0,1.'\n",
    "\n",
    "Due to the inherrent binary nature of all programs (at their core, at least), many computations will actually run slightly faster when they're processed in chunks of size: $$2^n$$ You will find this to be true especially for neural networks (and batch sizes for data - don't worry if you don't know what that means yet). \n",
    "\n",
    "Because of this, it can be helpful to enumerate some subset of the powers of 2 in a list. We'll do that two ways here. "
   ]
  },
  {
   "cell_type": "markdown",
   "metadata": {},
   "source": [
    "## Question 1\n",
    "#### TODO - A)\n",
    "In the space below, write a for loop (non-list comprehension) that appends the powers of two between 2^-10 and 2^10 to a list, then print the list."
   ]
  },
  {
   "cell_type": "code",
   "execution_count": 2,
   "metadata": {},
   "outputs": [
    {
     "name": "stdout",
     "output_type": "stream",
     "text": [
      "[0.0009765625, 0.001953125, 0.00390625, 0.0078125, 0.015625, 0.03125, 0.0625, 0.125, 0.25, 0.5, 1, 2, 4, 8, 16, 32, 64, 128, 256, 512, 1024]\n"
     ]
    }
   ],
   "source": [
    "###Code here:\n",
    "\n",
    "l = []\n",
    "\n",
    "for i in range(-10,11):\n",
    "    n = 2**i\n",
    "    l.append(n)\n",
    "    #print(i,'2**{}'.format(i),n,l)\n",
    "\n",
    "print(l)\n"
   ]
  },
  {
   "cell_type": "markdown",
   "metadata": {},
   "source": [
    "#### TODO - B) \n",
    "Now do the same thing, as a list comprehension:"
   ]
  },
  {
   "cell_type": "code",
   "execution_count": 35,
   "metadata": {},
   "outputs": [
    {
     "name": "stdout",
     "output_type": "stream",
     "text": [
      "[0.0009765625, 0.001953125, 0.00390625, 0.0078125, 0.015625, 0.03125, 0.0625, 0.125, 0.25, 0.5, 1, 2, 4, 8, 16, 32, 64, 128, 256, 512, 1024]\n"
     ]
    }
   ],
   "source": [
    "###Code here:\n",
    "\n",
    "l = [2**i for i in range(-10,11)]\n",
    "print(l)"
   ]
  },
  {
   "cell_type": "markdown",
   "metadata": {},
   "source": [
    "# Dictionaries\n",
    "### 'Music and Programming'\n",
    "As a programmer who also happens to be a musician, I've found computers to be immensely helpful in the composition process. Initiatives like [Google's Project Magenta](https://magenta.tensorflow.org/) and [Deep Mind (also Google)](https://deepmind.com/) have made some fascinating strides in the real of music and audio generation, and if you too are musically minded you might find this field very interesting. Because most music we encounter nowadays is presented in the Western ['Equal Tempered'](https://en.wikipedia.org/wiki/Equal_temperament) fashion or as [MIDI](https://en.wikipedia.org/wiki/MIDI), it is helpful to build a tool that easily convert between the two."
   ]
  },
  {
   "cell_type": "markdown",
   "metadata": {},
   "source": [
    "## Question 2:\n",
    "There are 12 degrees in an equal-tempered chromatic scale.\n",
    "Using the following dictionary, I've mapped the integer value of each degree to its corresponding note name in the key of C. The array (list) 'int_melody' contains a randomly generated sequence of degree values; \n",
    "#### TODO:\n",
    "Using a list comprehension, translate each value to its note name (A,B,C,etc)."
   ]
  },
  {
   "cell_type": "code",
   "execution_count": 6,
   "metadata": {},
   "outputs": [
    {
     "name": "stdout",
     "output_type": "stream",
     "text": [
      "[ 2.  2. 10.  9.  2. 10. 11. 11.  5.  4.]\n"
     ]
    },
    {
     "data": {
      "text/plain": [
       "['D', 'D', 'A#', 'A', 'D', 'A#', 'B', 'B', 'F', 'E']"
      ]
     },
     "execution_count": 6,
     "metadata": {},
     "output_type": "execute_result"
    }
   ],
   "source": [
    "import numpy \n",
    "\n",
    "degree_map = {0:'C',1:'C#',2:'D',3:'D#',4:'E',5:'F',6:'F#',7:'G',8:'G#',9:'A',10:'A#',11:'B'}\n",
    "\n",
    "melody_length = 10\n",
    "midi_melody = np.floor(np.random.random(melody_length)*12)\n",
    "\n",
    "### CODE BELOW ###\n",
    "\n",
    "print(midi_melody)\n",
    "[degree_map[i] for i in midi_melody]\n",
    "\n"
   ]
  },
  {
   "cell_type": "markdown",
   "metadata": {},
   "source": [
    "### Great job! \n",
    "#### *Next up: please proceed to either homework_1_EXTRA (more music stuff), or homework_2 (cryptography using Caesar Ciphers).*"
   ]
  }
 ],
 "metadata": {
  "kernelspec": {
   "display_name": "Python 3",
   "language": "python",
   "name": "python3"
  },
  "language_info": {
   "codemirror_mode": {
    "name": "ipython",
    "version": 3
   },
   "file_extension": ".py",
   "mimetype": "text/x-python",
   "name": "python",
   "nbconvert_exporter": "python",
   "pygments_lexer": "ipython3",
   "version": "3.7.1"
  }
 },
 "nbformat": 4,
 "nbformat_minor": 2
}
